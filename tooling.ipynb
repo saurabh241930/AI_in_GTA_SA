{
 "cells": [
  {
   "cell_type": "code",
   "execution_count": 1,
   "metadata": {},
   "outputs": [],
   "source": [
    "import numpy as np\n",
    "import pandas as pd\n",
    "from collections import Counter\n",
    "from random import shuffle"
   ]
  },
  {
   "cell_type": "code",
   "execution_count": null,
   "metadata": {},
   "outputs": [],
   "source": [
    "train_data = np.load('training_data.npy')"
   ]
  },
  {
   "cell_type": "code",
   "execution_count": null,
   "metadata": {},
   "outputs": [],
   "source": [
    "df = pd.DataFrame(train_data)"
   ]
  },
  {
   "cell_type": "code",
   "execution_count": null,
   "metadata": {},
   "outputs": [],
   "source": [
    "df.head()"
   ]
  },
  {
   "cell_type": "code",
   "execution_count": null,
   "metadata": {},
   "outputs": [],
   "source": [
    "Counter(df[1].apply(str))"
   ]
  },
  {
   "cell_type": "code",
   "execution_count": null,
   "metadata": {},
   "outputs": [],
   "source": [
    "lefts = []\n",
    "rights = []\n",
    "forwards = []\n",
    "\n",
    "shuffle(train_data)\n",
    "\n",
    "for data in train_data:\n",
    "    img = data[0]\n",
    "    choice = data[1]\n",
    "\n",
    "    if choice == [1,0,0]:\n",
    "        lefts.append([img,choice])\n",
    "    elif choice == [0,1,0]:\n",
    "        forwards.append([img,choice])\n",
    "    elif choice == [0,0,1]:\n",
    "        rights.append([img,choice])\n",
    "    else:\n",
    "        print('no matches')\n",
    "        \n",
    "\n"
   ]
  },
  {
   "cell_type": "code",
   "execution_count": null,
   "metadata": {},
   "outputs": [],
   "source": [
    "forwards = forwards[:len(lefts)][:len(rights)]\n",
    "lefts = lefts[:len(forwards)]\n",
    "rights = rights[:len(forwards)]\n",
    "\n",
    "final_data = forwards + lefts + rights\n",
    "shuffle(final_data)\n",
    "\n",
    "np.save('training_data.npy', final_data)\n"
   ]
  },
  {
   "cell_type": "code",
   "execution_count": 2,
   "metadata": {},
   "outputs": [],
   "source": [
    "balanced_data = np.load('training_data.npy')\n",
    "\n",
    "df_new = pd.DataFrame(balanced_data)"
   ]
  },
  {
   "cell_type": "code",
   "execution_count": 3,
   "metadata": {},
   "outputs": [
    {
     "data": {
      "text/plain": [
       "Counter({'[0, 0, 1]': 4858, '[0, 1, 0]': 4858, '[1, 0, 0]': 4858})"
      ]
     },
     "execution_count": 3,
     "metadata": {},
     "output_type": "execute_result"
    }
   ],
   "source": [
    "Counter(df_new[1].apply(str))"
   ]
  },
  {
   "cell_type": "code",
   "execution_count": 4,
   "metadata": {
    "scrolled": true
   },
   "outputs": [
    {
     "data": {
      "text/plain": [
       "<bound method NDFrame.describe of                                                        0          1\n",
       "0      [[64, 174, 174, 174, 174, 174, 174, 174, 174, ...  [0, 0, 1]\n",
       "1      [[64, 180, 180, 180, 180, 180, 180, 180, 180, ...  [0, 0, 1]\n",
       "2      [[64, 183, 183, 183, 183, 183, 183, 183, 183, ...  [0, 1, 0]\n",
       "3      [[64, 71, 15, 12, 38, 15, 32, 21, 30, 76, 106,...  [0, 1, 0]\n",
       "4      [[64, 44, 6, 8, 7, 6, 6, 1, 6, 12, 15, 10, 10,...  [1, 0, 0]\n",
       "5      [[64, 4, 6, 7, 183, 183, 183, 183, 182, 183, 3...  [0, 1, 0]\n",
       "6      [[64, 23, 23, 35, 23, 38, 17, 17, 34, 21, 24, ...  [0, 1, 0]\n",
       "7      [[64, 170, 115, 129, 182, 182, 182, 182, 182, ...  [0, 1, 0]\n",
       "8      [[64, 17, 14, 10, 32, 23, 38, 39, 39, 17, 12, ...  [0, 0, 1]\n",
       "9      [[64, 120, 119, 115, 126, 61, 27, 19, 103, 103...  [0, 0, 1]\n",
       "10     [[64, 191, 191, 191, 191, 191, 186, 53, 191, 1...  [1, 0, 0]\n",
       "11     [[64, 25, 43, 39, 144, 142, 147, 130, 133, 142...  [0, 1, 0]\n",
       "12     [[64, 25, 37, 25, 41, 52, 10, 73, 27, 33, 19, ...  [0, 1, 0]\n",
       "13     [[64, 180, 180, 180, 180, 180, 180, 180, 180, ...  [1, 0, 0]\n",
       "14     [[64, 173, 173, 173, 173, 173, 173, 173, 173, ...  [1, 0, 0]\n",
       "15     [[64, 177, 177, 177, 177, 177, 177, 177, 177, ...  [1, 0, 0]\n",
       "16     [[64, 199, 199, 199, 199, 199, 199, 199, 199, ...  [1, 0, 0]\n",
       "17     [[64, 47, 47, 47, 47, 42, 42, 48, 47, 47, 47, ...  [0, 0, 1]\n",
       "18     [[64, 195, 195, 195, 195, 195, 195, 195, 195, ...  [1, 0, 0]\n",
       "19     [[64, 75, 30, 31, 18, 24, 33, 27, 29, 28, 28, ...  [1, 0, 0]\n",
       "20     [[64, 39, 89, 17, 26, 44, 53, 52, 15, 12, 14, ...  [0, 0, 1]\n",
       "21     [[64, 184, 184, 184, 179, 8, 8, 8, 96, 30, 92,...  [0, 1, 0]\n",
       "22     [[64, 201, 201, 201, 201, 201, 201, 201, 201, ...  [0, 1, 0]\n",
       "23     [[64, 75, 30, 31, 18, 24, 33, 27, 29, 28, 28, ...  [1, 0, 0]\n",
       "24     [[64, 41, 43, 42, 42, 41, 40, 49, 50, 49, 49, ...  [1, 0, 0]\n",
       "25     [[64, 126, 123, 117, 116, 110, 107, 106, 116, ...  [1, 0, 0]\n",
       "26     [[64, 160, 160, 157, 198, 198, 198, 198, 194, ...  [1, 0, 0]\n",
       "27     [[64, 10, 11, 11, 16, 17, 19, 20, 19, 18, 16, ...  [1, 0, 0]\n",
       "28     [[64, 30, 30, 30, 29, 31, 31, 30, 27, 29, 31, ...  [0, 1, 0]\n",
       "29     [[64, 37, 37, 21, 107, 93, 58, 20, 39, 35, 46,...  [0, 1, 0]\n",
       "...                                                  ...        ...\n",
       "14544  [[64, 0, 0, 0, 0, 0, 0, 0, 0, 0, 0, 0, 0, 0, 0...  [0, 1, 0]\n",
       "14545  [[64, 200, 200, 200, 200, 200, 200, 200, 33, 2...  [1, 0, 0]\n",
       "14546  [[64, 46, 43, 40, 36, 33, 30, 23, 59, 15, 15, ...  [0, 0, 1]\n",
       "14547  [[64, 6, 6, 7, 6, 5, 6, 5, 8, 7, 5, 6, 10, 36,...  [1, 0, 0]\n",
       "14548  [[99, 0, 0, 0, 0, 0, 0, 0, 0, 0, 0, 0, 0, 0, 0...  [0, 1, 0]\n",
       "14549  [[64, 52, 192, 113, 89, 194, 160, 24, 30, 43, ...  [1, 0, 0]\n",
       "14550  [[64, 170, 189, 186, 189, 79, 185, 184, 53, 81...  [0, 0, 1]\n",
       "14551  [[64, 41, 45, 61, 55, 58, 67, 59, 50, 50, 45, ...  [0, 0, 1]\n",
       "14552  [[64, 172, 172, 172, 170, 65, 77, 76, 172, 172...  [1, 0, 0]\n",
       "14553  [[64, 175, 175, 175, 175, 175, 175, 175, 175, ...  [1, 0, 0]\n",
       "14554  [[64, 199, 199, 199, 81, 70, 91, 114, 199, 199...  [1, 0, 0]\n",
       "14555  [[64, 200, 200, 200, 200, 200, 200, 200, 200, ...  [0, 1, 0]\n",
       "14556  [[64, 32, 193, 105, 44, 178, 101, 29, 195, 122...  [1, 0, 0]\n",
       "14557  [[64, 200, 200, 200, 200, 200, 200, 200, 200, ...  [1, 0, 0]\n",
       "14558  [[64, 158, 165, 195, 195, 42, 36, 36, 195, 195...  [0, 0, 1]\n",
       "14559  [[99, 0, 0, 0, 0, 0, 0, 0, 0, 0, 0, 0, 0, 0, 0...  [0, 1, 0]\n",
       "14560  [[64, 197, 197, 197, 197, 197, 197, 197, 197, ...  [0, 1, 0]\n",
       "14561  [[64, 181, 181, 179, 80, 110, 181, 64, 89, 121...  [0, 0, 1]\n",
       "14562  [[64, 194, 194, 194, 194, 194, 194, 194, 194, ...  [0, 1, 0]\n",
       "14563  [[64, 176, 176, 176, 177, 114, 61, 69, 61, 139...  [1, 0, 0]\n",
       "14564  [[64, 195, 195, 195, 195, 195, 195, 195, 194, ...  [0, 1, 0]\n",
       "14565  [[64, 45, 45, 45, 45, 45, 45, 45, 45, 46, 40, ...  [0, 0, 1]\n",
       "14566  [[64, 41, 87, 47, 24, 26, 23, 68, 39, 33, 47, ...  [0, 1, 0]\n",
       "14567  [[64, 19, 20, 19, 18, 17, 19, 18, 18, 18, 18, ...  [0, 0, 1]\n",
       "14568  [[64, 187, 173, 186, 183, 187, 187, 187, 187, ...  [0, 0, 1]\n",
       "14569  [[64, 164, 164, 164, 164, 164, 164, 164, 164, ...  [1, 0, 0]\n",
       "14570  [[64, 69, 58, 60, 67, 67, 50, 59, 53, 57, 42, ...  [0, 1, 0]\n",
       "14571  [[64, 124, 126, 128, 62, 80, 81, 77, 51, 60, 4...  [0, 1, 0]\n",
       "14572  [[64, 85, 35, 25, 46, 40, 16, 192, 192, 192, 1...  [0, 0, 1]\n",
       "14573  [[64, 125, 188, 188, 188, 41, 33, 188, 188, 18...  [0, 0, 1]\n",
       "\n",
       "[14574 rows x 2 columns]>"
      ]
     },
     "execution_count": 4,
     "metadata": {},
     "output_type": "execute_result"
    }
   ],
   "source": [
    "df_new.describe"
   ]
  },
  {
   "cell_type": "code",
   "execution_count": 5,
   "metadata": {},
   "outputs": [
    {
     "data": {
      "text/plain": [
       "array([0, 1])"
      ]
     },
     "execution_count": 5,
     "metadata": {},
     "output_type": "execute_result"
    }
   ],
   "source": [
    "# Get ndArray of all column names \n",
    "df_new.columns.values"
   ]
  },
  {
   "cell_type": "code",
   "execution_count": 6,
   "metadata": {},
   "outputs": [
    {
     "data": {
      "text/plain": [
       "(1, 160, 120, 1)"
      ]
     },
     "execution_count": 6,
     "metadata": {},
     "output_type": "execute_result"
    }
   ],
   "source": [
    "df_new[0].iloc[0].reshape(-1,160,120,1).shape"
   ]
  },
  {
   "cell_type": "code",
   "execution_count": 22,
   "metadata": {},
   "outputs": [
    {
     "name": "stdout",
     "output_type": "stream",
     "text": [
      "left\n",
      "frame : 11511\n"
     ]
    },
    {
     "data": {
      "image/png": "[encoded data removed]",
      "text/plain": [
       "<PIL.Image.Image image mode=L size=160x120 at 0x7F8C8C053400>"
      ]
     },
     "execution_count": 22,
     "metadata": {},
     "output_type": "execute_result"
    }
   ],
   "source": [
    "import numpy\n",
    "import PIL\n",
    "from PIL import Image\n",
    "from matplotlib.pyplot import imshow\n",
    "import random\n",
    "\n",
    "random_frame = random.randint(1,14574)\n",
    "\n",
    "\n",
    "image_arr = df_new[0].iloc[random_frame]\n",
    "move = df_new[1].iloc[random_frame]\n",
    "\n",
    "img = PIL.Image.fromarray(image_arr)\n",
    "\n",
    "\n",
    "if move == [0,1,0]:\n",
    "    print(\"foward\")\n",
    "elif move == [1,0,0]:\n",
    "    print(\"left\")\n",
    "elif move == [0,0,1]:\n",
    "    print(\"right\")\n",
    "    \n",
    "    \n",
    "print(\"frame : \"+str(random_frame))\n",
    "\n",
    "\n",
    "img\n",
    "\n"
   ]
  },
  {
   "cell_type": "code",
   "execution_count": 7,
   "metadata": {},
   "outputs": [
    {
     "name": "stdout",
     "output_type": "stream",
     "text": [
      "Scipy not supported!\n",
      "WARNING:tensorflow:From /usr/local/lib/python3.5/dist-packages/tensorflow/python/framework/op_def_library.py:263: colocate_with (from tensorflow.python.framework.ops) is deprecated and will be removed in a future version.\n",
      "Instructions for updating:\n",
      "Colocations handled automatically by placer.\n"
     ]
    }
   ],
   "source": [
    "\"\"\" AlexNet.\n",
    "References:\n",
    "    - Alex Krizhevsky, Ilya Sutskever & Geoffrey E. Hinton. ImageNet\n",
    "    Classification with Deep Convolutional Neural Networks. NIPS, 2012.\n",
    "Links:\n",
    "    - [AlexNet Paper](http://papers.nips.cc/paper/4824-imagenet-classification-with-deep-convolutional-neural-networks.pdf)\n",
    "\"\"\"\n",
    "\n",
    "import tflearn\n",
    "from tflearn.layers.conv import conv_2d, max_pool_2d\n",
    "from tflearn.layers.core import input_data, dropout, fully_connected\n",
    "from tflearn.layers.estimator import regression\n",
    "from tflearn.layers.normalization import local_response_normalization\n",
    "\n",
    "def alexnet(width, height, lr):\n",
    "    network = input_data(shape=[None, width, height, 1], name='input')\n",
    "    network = conv_2d(network, 96, 11, strides=4, activation='relu')\n",
    "    network = max_pool_2d(network, 3, strides=2)\n",
    "    network = local_response_normalization(network)\n",
    "    network = conv_2d(network, 256, 5, activation='relu')\n",
    "    network = max_pool_2d(network, 3, strides=2)\n",
    "    network = local_response_normalization(network)\n",
    "    network = conv_2d(network, 384, 3, activation='relu')\n",
    "    network = conv_2d(network, 384, 3, activation='relu')\n",
    "    network = conv_2d(network, 256, 3, activation='relu')\n",
    "    network = max_pool_2d(network, 3, strides=2)\n",
    "    network = local_response_normalization(network)\n",
    "    network = fully_connected(network, 4096, activation='tanh')\n",
    "    network = dropout(network, 0.5)\n",
    "    network = fully_connected(network, 4096, activation='tanh')\n",
    "    network = dropout(network, 0.5)\n",
    "    network = fully_connected(network, 3, activation='softmax')\n",
    "    network = regression(network, optimizer='momentum',\n",
    "                         loss='categorical_crossentropy',\n",
    "                         learning_rate=lr, name='targets')\n",
    "\n",
    "    model = tflearn.DNN(network, checkpoint_path='model_alexnet',\n",
    "                        max_checkpoints=1, tensorboard_verbose=0, tensorboard_dir='log')\n",
    "\n",
    "    return model"
   ]
  },
  {
   "cell_type": "code",
   "execution_count": null,
   "metadata": {},
   "outputs": [],
   "source": [
    "# creating model instance\n",
    "\n",
    "WIDTH = 160\n",
    "HEIGHT = 120\n",
    "LR = 1e-3\n",
    "EPOCHS = 14\n",
    "MODEL_NAME = 'pygtaSa-{}-{}-{}-epochs.model'.format(LR, 'alexnetv2',EPOCHS)\n",
    "\n",
    "model = alexnet(WIDTH, HEIGHT, LR)"
   ]
  },
  {
   "cell_type": "code",
   "execution_count": null,
   "metadata": {},
   "outputs": [],
   "source": [
    "train_data = np.load('training_data.npy')\n",
    "\n",
    "train = train_data[:-500]\n",
    "test = train_data[-500:]\n",
    "\n",
    "#(-1,w,h,1) reshape because -1 means that the length in that dimension is inferred. \n",
    "# This is done based on the constraint that the number of elements in an\n",
    "# ndarray or Tensor when reshaped must remain the same. In the tutorial,\n",
    "# each image is a row vector (784 elements) and \n",
    "# there are lots of such rows (let it be n, so there are 784n elements).\n",
    "# So, when you write\n",
    "\n",
    "# x_image = tf.reshape(x, [-1, 28, 28, 1])\n",
    "\n",
    "# TensorFlow can infer that -1 is n.\n",
    "\n",
    "#ref : https://stackoverflow.com/questions/41848660/why-the-negative-reshape-1-in-mnist-tutorial/41848962\n",
    "\n",
    "\n",
    "\n",
    "X = np.array([i[0] for i in train]).reshape(-1,WIDTH,HEIGHT,1)\n",
    "Y = [i[1] for i in train]\n",
    "\n",
    "test_x = np.array([i[0] for i in test]).reshape(-1,WIDTH,HEIGHT,1)\n",
    "test_y = [i[1] for i in test]\n"
   ]
  },
  {
   "cell_type": "code",
   "execution_count": null,
   "metadata": {},
   "outputs": [],
   "source": [
    "model.fit({'input': X}, {'targets': Y}, n_epoch=EPOCHS, validation_set=({'input': test_x}, {'targets': test_y}), \n",
    "    snapshot_step=500, show_metric=True, run_id=MODEL_NAME)\n",
    "\n",
    "# tensorboard --logdir=foo:C:/Users/H/Desktop/ai-gaming/log\n",
    "\n",
    "model.save(MODEL_NAME)"
   ]
  },
  {
   "cell_type": "code",
   "execution_count": 8,
   "metadata": {
    "scrolled": true
   },
   "outputs": [
    {
     "name": "stdout",
     "output_type": "stream",
     "text": [
      "WARNING:tensorflow:From /usr/local/lib/python3.5/dist-packages/tflearn/initializations.py:119: UniformUnitScaling.__init__ (from tensorflow.python.ops.init_ops) is deprecated and will be removed in a future version.\n",
      "Instructions for updating:\n",
      "Use tf.initializers.variance_scaling instead with distribution=uniform to get equivalent behavior.\n",
      "WARNING:tensorflow:From /usr/local/lib/python3.5/dist-packages/tflearn/layers/core.py:239: calling dropout (from tensorflow.python.ops.nn_ops) with keep_prob is deprecated and will be removed in a future version.\n",
      "Instructions for updating:\n",
      "Please use `rate` instead of `keep_prob`. Rate should be set to `rate = 1 - keep_prob`.\n",
      "WARNING:tensorflow:From /usr/local/lib/python3.5/dist-packages/tflearn/objectives.py:66: calling reduce_sum_v1 (from tensorflow.python.ops.math_ops) with keep_dims is deprecated and will be removed in a future version.\n",
      "Instructions for updating:\n",
      "keep_dims is deprecated, use keepdims instead\n",
      "WARNING:tensorflow:From /usr/local/lib/python3.5/dist-packages/tensorflow/python/ops/math_ops.py:3066: to_int32 (from tensorflow.python.ops.math_ops) is deprecated and will be removed in a future version.\n",
      "Instructions for updating:\n",
      "Use tf.cast instead.\n",
      "WARNING:tensorflow:From /usr/local/lib/python3.5/dist-packages/tensorflow/python/training/saver.py:1266: checkpoint_exists (from tensorflow.python.training.checkpoint_management) is deprecated and will be removed in a future version.\n",
      "Instructions for updating:\n",
      "Use standard file APIs to check for files with this prefix.\n"
     ]
    },
    {
     "ename": "ValueError",
     "evalue": "The passed save_path is not a valid checkpoint: /tf/AI_GTA/pygtaSa-0.001-alexnetv2-15-epochs.model",
     "output_type": "error",
     "traceback": [
      "\u001b[0;31m---------------------------------------------------------------------------\u001b[0m",
      "\u001b[0;31mValueError\u001b[0m                                Traceback (most recent call last)",
      "\u001b[0;32m<ipython-input-8-4c37d2c743fb>\u001b[0m in \u001b[0;36m<module>\u001b[0;34m\u001b[0m\n\u001b[1;32m      7\u001b[0m \u001b[0mmodel\u001b[0m \u001b[0;34m=\u001b[0m \u001b[0malexnet\u001b[0m\u001b[0;34m(\u001b[0m\u001b[0mWIDTH\u001b[0m\u001b[0;34m,\u001b[0m \u001b[0mHEIGHT\u001b[0m\u001b[0;34m,\u001b[0m \u001b[0mLR\u001b[0m\u001b[0;34m)\u001b[0m\u001b[0;34m\u001b[0m\u001b[0m\n\u001b[1;32m      8\u001b[0m \u001b[0;34m\u001b[0m\u001b[0m\n\u001b[0;32m----> 9\u001b[0;31m \u001b[0mmodel\u001b[0m\u001b[0;34m.\u001b[0m\u001b[0mload\u001b[0m\u001b[0;34m(\u001b[0m\u001b[0mMODEL_NAME\u001b[0m\u001b[0;34m)\u001b[0m\u001b[0;34m\u001b[0m\u001b[0m\n\u001b[0m",
      "\u001b[0;32m/usr/local/lib/python3.5/dist-packages/tflearn/models/dnn.py\u001b[0m in \u001b[0;36mload\u001b[0;34m(self, model_file, weights_only, **optargs)\u001b[0m\n\u001b[1;32m    306\u001b[0m                      \u001b[0mcreated\u001b[0m \u001b[0;32mfor\u001b[0m \u001b[0mthe\u001b[0m \u001b[0mrestored\u001b[0m \u001b[0mvariables\u001b[0m\u001b[0;34m.\u001b[0m\u001b[0;34m\u001b[0m\u001b[0m\n\u001b[1;32m    307\u001b[0m         \"\"\"\n\u001b[0;32m--> 308\u001b[0;31m         \u001b[0mself\u001b[0m\u001b[0;34m.\u001b[0m\u001b[0mtrainer\u001b[0m\u001b[0;34m.\u001b[0m\u001b[0mrestore\u001b[0m\u001b[0;34m(\u001b[0m\u001b[0mmodel_file\u001b[0m\u001b[0;34m,\u001b[0m \u001b[0mweights_only\u001b[0m\u001b[0;34m,\u001b[0m \u001b[0;34m**\u001b[0m\u001b[0moptargs\u001b[0m\u001b[0;34m)\u001b[0m\u001b[0;34m\u001b[0m\u001b[0m\n\u001b[0m\u001b[1;32m    309\u001b[0m         \u001b[0mself\u001b[0m\u001b[0;34m.\u001b[0m\u001b[0msession\u001b[0m \u001b[0;34m=\u001b[0m \u001b[0mself\u001b[0m\u001b[0;34m.\u001b[0m\u001b[0mtrainer\u001b[0m\u001b[0;34m.\u001b[0m\u001b[0msession\u001b[0m\u001b[0;34m\u001b[0m\u001b[0m\n\u001b[1;32m    310\u001b[0m         self.predictor = Evaluator([self.net],\n",
      "\u001b[0;32m/usr/local/lib/python3.5/dist-packages/tflearn/helpers/trainer.py\u001b[0m in \u001b[0;36mrestore\u001b[0;34m(self, model_file, trainable_variable_only, variable_name_map, scope_for_restore, create_new_session, verbose)\u001b[0m\n\u001b[1;32m    488\u001b[0m             \u001b[0mrestorer\u001b[0m\u001b[0;34m.\u001b[0m\u001b[0mrestore\u001b[0m\u001b[0;34m(\u001b[0m\u001b[0mself\u001b[0m\u001b[0;34m.\u001b[0m\u001b[0msession\u001b[0m\u001b[0;34m,\u001b[0m \u001b[0mmodel_file\u001b[0m\u001b[0;34m)\u001b[0m\u001b[0;34m\u001b[0m\u001b[0m\n\u001b[1;32m    489\u001b[0m         \u001b[0;32melif\u001b[0m \u001b[0;32mnot\u001b[0m \u001b[0mtrainable_variable_only\u001b[0m\u001b[0;34m:\u001b[0m\u001b[0;34m\u001b[0m\u001b[0m\n\u001b[0;32m--> 490\u001b[0;31m             \u001b[0mself\u001b[0m\u001b[0;34m.\u001b[0m\u001b[0mrestorer\u001b[0m\u001b[0;34m.\u001b[0m\u001b[0mrestore\u001b[0m\u001b[0;34m(\u001b[0m\u001b[0mself\u001b[0m\u001b[0;34m.\u001b[0m\u001b[0msession\u001b[0m\u001b[0;34m,\u001b[0m \u001b[0mmodel_file\u001b[0m\u001b[0;34m)\u001b[0m\u001b[0;34m\u001b[0m\u001b[0m\n\u001b[0m\u001b[1;32m    491\u001b[0m         \u001b[0;32melse\u001b[0m\u001b[0;34m:\u001b[0m\u001b[0;34m\u001b[0m\u001b[0m\n\u001b[1;32m    492\u001b[0m             \u001b[0mself\u001b[0m\u001b[0;34m.\u001b[0m\u001b[0mrestorer_trainvars\u001b[0m\u001b[0;34m.\u001b[0m\u001b[0mrestore\u001b[0m\u001b[0;34m(\u001b[0m\u001b[0mself\u001b[0m\u001b[0;34m.\u001b[0m\u001b[0msession\u001b[0m\u001b[0;34m,\u001b[0m \u001b[0mmodel_file\u001b[0m\u001b[0;34m)\u001b[0m\u001b[0;34m\u001b[0m\u001b[0m\n",
      "\u001b[0;32m/usr/local/lib/python3.5/dist-packages/tensorflow/python/training/saver.py\u001b[0m in \u001b[0;36mrestore\u001b[0;34m(self, sess, save_path)\u001b[0m\n\u001b[1;32m   1266\u001b[0m     \u001b[0;32mif\u001b[0m \u001b[0;32mnot\u001b[0m \u001b[0mcheckpoint_management\u001b[0m\u001b[0;34m.\u001b[0m\u001b[0mcheckpoint_exists\u001b[0m\u001b[0;34m(\u001b[0m\u001b[0mcompat\u001b[0m\u001b[0;34m.\u001b[0m\u001b[0mas_text\u001b[0m\u001b[0;34m(\u001b[0m\u001b[0msave_path\u001b[0m\u001b[0;34m)\u001b[0m\u001b[0;34m)\u001b[0m\u001b[0;34m:\u001b[0m\u001b[0;34m\u001b[0m\u001b[0m\n\u001b[1;32m   1267\u001b[0m       raise ValueError(\"The passed save_path is not a valid checkpoint: \"\n\u001b[0;32m-> 1268\u001b[0;31m                        + compat.as_text(save_path))\n\u001b[0m\u001b[1;32m   1269\u001b[0m \u001b[0;34m\u001b[0m\u001b[0m\n\u001b[1;32m   1270\u001b[0m     \u001b[0mlogging\u001b[0m\u001b[0;34m.\u001b[0m\u001b[0minfo\u001b[0m\u001b[0;34m(\u001b[0m\u001b[0;34m\"Restoring parameters from %s\"\u001b[0m\u001b[0;34m,\u001b[0m \u001b[0mcompat\u001b[0m\u001b[0;34m.\u001b[0m\u001b[0mas_text\u001b[0m\u001b[0;34m(\u001b[0m\u001b[0msave_path\u001b[0m\u001b[0;34m)\u001b[0m\u001b[0;34m)\u001b[0m\u001b[0;34m\u001b[0m\u001b[0m\n",
      "\u001b[0;31mValueError\u001b[0m: The passed save_path is not a valid checkpoint: /tf/AI_GTA/pygtaSa-0.001-alexnetv2-15-epochs.model"
     ]
    }
   ],
   "source": [
    "WIDTH = 160\n",
    "HEIGHT = 120\n",
    "LR = 1e-3\n",
    "EPOCHS = 15\n",
    "MODEL_NAME = 'pygtaSa-{}-{}-{}-epochs.model'.format(LR, 'alexnetv2',EPOCHS)\n",
    "\n",
    "model = alexnet(WIDTH, HEIGHT, LR)\n",
    "\n",
    "model.load(MODEL_NAME)"
   ]
  },
  {
   "cell_type": "code",
   "execution_count": 29,
   "metadata": {},
   "outputs": [
    {
     "data": {
      "text/plain": [
       "<tflearn.models.dnn.DNN at 0x7f8cc41b9c18>"
      ]
     },
     "execution_count": 29,
     "metadata": {},
     "output_type": "execute_result"
    }
   ],
   "source": [
    "# image_array = df_new[0].iloc[11511]\n",
    "model"
   ]
  }
 ],
 "metadata": {
  "kernelspec": {
   "display_name": "Python 3",
   "language": "python",
   "name": "python3"
  },
  "language_info": {
   "codemirror_mode": {
    "name": "ipython",
    "version": 3
   },
   "file_extension": ".py",
   "mimetype": "text/x-python",
   "name": "python",
   "nbconvert_exporter": "python",
   "pygments_lexer": "ipython3",
   "version": "3.5.2"
  }
 },
 "nbformat": 4,
 "nbformat_minor": 2
}
